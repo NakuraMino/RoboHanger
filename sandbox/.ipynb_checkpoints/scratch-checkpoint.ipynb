{
 "cells": [
  {
   "cell_type": "code",
   "execution_count": 3,
   "id": "e46186ce-158f-49ba-8dfb-e2e512b2a90e",
   "metadata": {},
   "outputs": [],
   "source": [
    "import imageio\n",
    "from pathlib import Path\n",
    "import numpy as np\n",
    "\n",
    "PATH = Path('/data/minon/RoboHanger_code/outputs/2025-09-19/18-18-12/0/')"
   ]
  },
  {
   "cell_type": "code",
   "execution_count": 16,
   "id": "7c807969-fcea-4890-9b3f-5cd55259cef8",
   "metadata": {},
   "outputs": [
    {
     "name": "stdout",
     "output_type": "stream",
     "text": [
      "<class 'numpy.ndarray'>\n",
      "object\n",
      "(50, 2)\n"
     ]
    }
   ],
   "source": [
    "actions = PATH / \"action\"\n",
    "data = np.load(actions / '0.npy', allow_pickle=True).item()\n",
    "xy = data['xy']\n",
    "print(type(xy), xy.shape, xy.dtype)"
   ]
  },
  {
   "cell_type": "code",
   "execution_count": null,
   "id": "dfd32457-d094-4c85-b494-99bd4f32de5e",
   "metadata": {},
   "outputs": [],
   "source": []
  }
 ],
 "metadata": {
  "kernelspec": {
   "display_name": "Python (hanger)",
   "language": "python",
   "name": "hanger"
  },
  "language_info": {
   "codemirror_mode": {
    "name": "ipython",
    "version": 3
   },
   "file_extension": ".py",
   "mimetype": "text/x-python",
   "name": "python",
   "nbconvert_exporter": "python",
   "pygments_lexer": "ipython3",
   "version": "3.9.0"
  }
 },
 "nbformat": 4,
 "nbformat_minor": 5
}
