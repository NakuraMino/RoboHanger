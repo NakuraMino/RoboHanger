{
 "cells": [
  {
   "cell_type": "code",
   "execution_count": null,
   "metadata": {},
   "outputs": [],
   "source": [
    "import batch_urdf\n",
    "import trimesh\n",
    "import torch\n",
    "import numpy as np\n",
    "import trimesh.transformations as tra\n",
    "from typing import Dict, List\n",
    "import pprint\n",
    "import os\n",
    "import shutil"
   ]
  },
  {
   "cell_type": "code",
   "execution_count": null,
   "metadata": {},
   "outputs": [],
   "source": [
    "large_urdf = batch_urdf.URDF(\n",
    "    batch_size=1,\n",
    "    urdf_path=\"./galbot_zero_description/galbot_zero_two_grippers.urdf\"\n",
    ")"
   ]
  },
  {
   "cell_type": "code",
   "execution_count": null,
   "metadata": {},
   "outputs": [],
   "source": [
    "print(large_urdf.joint_map.__len__())\n",
    "print(large_urdf.actuated_joints_map.__len__())\n",
    "print(large_urdf.link_map.__len__())"
   ]
  },
  {
   "cell_type": "code",
   "execution_count": null,
   "metadata": {},
   "outputs": [],
   "source": [
    "print(large_urdf.get_link_scene(\"left_gripper_inspire_tcp_frame\"))\n",
    "print(len(large_urdf.get_link_scene(\"left_gripper_inspire_tcp_frame\").geometry))"
   ]
  },
  {
   "cell_type": "code",
   "execution_count": null,
   "metadata": {},
   "outputs": [],
   "source": [
    "class Link:\n",
    "    def __init__(self, name: str, scene: trimesh.Scene, transform: np.ndarray) -> None:\n",
    "        self.name = name\n",
    "        \n",
    "        self.parent_joint = None\n",
    "        self.child_joint: List[\"Joint\"] = []\n",
    "\n",
    "        self.scene = scene\n",
    "        self.transform = transform\n",
    "    \n",
    "    def __hash__(self):\n",
    "        return self.name.__hash__()\n",
    "    \n",
    "    def set_parent_joint(self, joint: \"Joint\"):\n",
    "        self.parent_joint = joint\n",
    "    \n",
    "    def add_child_joint(self, joint: \"Joint\"):\n",
    "        self.child_joint.append(joint)\n",
    "\n",
    "class Joint:\n",
    "    def __init__(self, name: str, joint_type: str, axis: np.ndarray, origin: np.ndarray, limit: batch_urdf.Limit) -> None:\n",
    "        self.name = name\n",
    "        self.joint_type = joint_type\n",
    "\n",
    "        self.parent = None\n",
    "        self.child = None\n",
    "\n",
    "        self.axis = axis\n",
    "        self.origin = origin\n",
    "        self.limit = limit\n",
    "    \n",
    "    def __hash__(self):\n",
    "        return self.name.__hash__()\n",
    "\n",
    "    def set_parent_link(self, link: \"Link\"):\n",
    "        self.parent = link\n",
    "\n",
    "    def set_child_link(self, link: \"Link\"):\n",
    "        self.child = link\n",
    "\n",
    "def connect(parent: Link, child: Link, joint: Joint):\n",
    "    joint.set_parent_link(parent)\n",
    "    joint.set_child_link(child)\n",
    "    child.set_parent_joint(joint)\n",
    "    parent.add_child_joint(joint)\n",
    "\n",
    "def merge_scene(s1: trimesh.Scene, s2: trimesh.Scene, s2_origin: np.ndarray):\n",
    "    return (\n",
    "        s1 if len(s1.geometry) > 0 else trimesh.Scene()\n",
    "    ) + (\n",
    "        s2.apply_transform(s2_origin) if len(s2.geometry) > 0 else trimesh.Scene()\n",
    "    )\n",
    "\n",
    "def torch_to_numpy(t: torch.Tensor) -> np.ndarray:\n",
    "    return t.detach().cpu().numpy().copy()\n",
    "\n",
    "def collapse_edge(joint_name: str, merged_joints: Dict[str, Joint], merged_links: Dict[str, Link]):\n",
    "    joint = merged_joints[joint_name]\n",
    "    parent = joint.parent\n",
    "    child = joint.child\n",
    "\n",
    "    # remove joint and link\n",
    "    parent.child_joint.remove(joint)\n",
    "    merged_joints.pop(joint.name)\n",
    "    merged_links.pop(child.name)\n",
    "\n",
    "    # update parent link's scene\n",
    "    parent.scene = merge_scene(parent.scene, child.scene, np.linalg.inv(parent.transform) @ child.transform)\n",
    "\n",
    "    for child_joint in child.child_joint:\n",
    "        # reconnect joint and link\n",
    "        connect(\n",
    "            parent,\n",
    "            child_joint.child,\n",
    "            child_joint\n",
    "        )\n",
    "\n",
    "        # udpate joint axis and origin\n",
    "        child_joint.origin = joint.origin @ child_joint.origin\n",
    "        child_joint.axis = child_joint.origin[:3, :3] @ child_joint.axis\n",
    "        "
   ]
  },
  {
   "cell_type": "code",
   "execution_count": null,
   "metadata": {},
   "outputs": [],
   "source": [
    "merged_joints: Dict[str, Joint] = {}\n",
    "merged_links: Dict[str, Link] = {}\n",
    "\n",
    "for link_name in large_urdf.link_map.keys():\n",
    "    merged_links[link_name] = Link(\n",
    "        link_name, \n",
    "        large_urdf.get_link_scene(link_name), \n",
    "        torch_to_numpy(large_urdf.link_transform_map[link_name])[0, ...]\n",
    "    )\n",
    "\n",
    "for joint_name, joint in large_urdf.joint_map.items():\n",
    "    merged_joints[joint_name] = Joint(\n",
    "        joint_name,\n",
    "        joint.type,\n",
    "        torch_to_numpy(joint.axis)[0, ...],\n",
    "        torch_to_numpy(joint.origin)[0, ...],\n",
    "        joint.limit,\n",
    "    )\n",
    "    connect(\n",
    "        merged_links[joint.parent],\n",
    "        merged_links[joint.child],\n",
    "        merged_joints[joint_name],\n",
    "    )\n",
    "\n",
    "for joint_name, joint in large_urdf.joint_map.items():\n",
    "    if joint.type in [\"fixed\", \"prismatic\"]:\n",
    "        if large_urdf.link_map[joint.child].name not in [\n",
    "            \"left_gripper_inspire_tcp_frame\",\n",
    "            \"right_gripper_inspire_tcp_frame\",\n",
    "            \"left_arm_camera_link\",\n",
    "            \"right_arm_camera_link\",\n",
    "            \"head_camera_normal_frame\",\n",
    "        ]:\n",
    "            print(joint_name)\n",
    "            collapse_edge(joint_name, merged_joints, merged_links)"
   ]
  },
  {
   "cell_type": "code",
   "execution_count": null,
   "metadata": {},
   "outputs": [],
   "source": [
    "pprint.pprint(merged_joints)"
   ]
  },
  {
   "cell_type": "code",
   "execution_count": null,
   "metadata": {},
   "outputs": [],
   "source": [
    "pprint.pprint(merged_links)"
   ]
  },
  {
   "cell_type": "code",
   "execution_count": null,
   "metadata": {},
   "outputs": [],
   "source": [
    "output_urdf_path = \"./galbot_zero_description_simplified/urdf.urdf\""
   ]
  },
  {
   "cell_type": "code",
   "execution_count": null,
   "metadata": {},
   "outputs": [],
   "source": [
    "def export_urdf(output_urdf_path: str, merged_joints: Dict[str, Joint], merged_links: Dict[str, Link]):\n",
    "    space_str = ' '\n",
    "    def export_str_link(link: Link):\n",
    "        if len(link.scene.geometry) > 0:\n",
    "            rho = 1e3\n",
    "            m: trimesh.Trimesh = link.scene.dump(True)\n",
    "            i = trimesh.inertia.scene_inertia(link.scene, np.eye(4)) * rho\n",
    "            return (\n",
    "                f'\\t<link name=\"{link.name}\">\\n' + \n",
    "\n",
    "                f'\\t\\t<inertial>\\n' + \n",
    "                f'\\t\\t\\t<origin rpy=\"0 0 0\" xyz=\"{space_str.join(str(x) for x in m.center_mass)}\"/>\\n' + \n",
    "                f'\\t\\t\\t<mass value=\"{m.volume * rho}\"/>\\n' + \n",
    "                f'\\t\\t\\t<inertia ixx=\"{i[0, 0]}\" ixy=\"{i[0, 1]}\" ixz=\"{i[0, 2]}\" iyy=\"{i[1, 1]}\" iyz=\"{i[1, 2]}\" izz=\"{i[2, 2]}\"/>\\n'\n",
    "                f'\\t\\t</inertial>\\n' + \n",
    "\n",
    "                f'\\t\\t<visual>\\n' + \n",
    "                f'\\t\\t\\t<origin rpy=\"0 0 0\" xyz=\"0 0 0\"/>\\n' + \n",
    "                f'\\t\\t\\t<geometry>\\n' + \n",
    "                f'\\t\\t\\t\\t<mesh filename=\"meshes/{link.name}.stl\"/>\\n' + \n",
    "                f'\\t\\t\\t</geometry>\\n' + \n",
    "                f'\\t\\t</visual>\\n' + \n",
    "\n",
    "                f'\\t\\t<collision>\\n' + \n",
    "                f'\\t\\t\\t<origin rpy=\"0 0 0\" xyz=\"0 0 0\"/>\\n' + \n",
    "                f'\\t\\t\\t<geometry>\\n' + \n",
    "                f'\\t\\t\\t\\t<mesh filename=\"meshes/{link.name}.stl\"/>\\n' + \n",
    "                f'\\t\\t\\t</geometry>\\n' + \n",
    "                f'\\t\\t</collision>\\n' + \n",
    "                f'\\t</link>\\n'\n",
    "            )\n",
    "        else:\n",
    "            return f'\\t<link name=\"{link.name}\"/>\\n'\n",
    "    def export_str_joint(joint: Joint):\n",
    "        if joint.limit is not None:\n",
    "            limit_str = f'\\t\\t<limit effort=\"{joint.limit.effort}\" lower=\"{joint.limit.lower}\" upper=\"{joint.limit.upper}\" velocity=\"{joint.limit.velocity}\"/>\\n'\n",
    "        else:\n",
    "            limit_str = ''\n",
    "        return (\n",
    "            f'\\t<joint name=\"{joint.name}\" type=\"{joint.joint_type}\">\\n' + \n",
    "            f'\\t\\t<origin rpy=\"{space_str.join(str(x) for x in tra.euler_from_matrix(joint.origin))}\" xyz=\"{space_str.join(str(x) for x in joint.origin[:3, 3])}\"/>\\n' + \n",
    "            f'\\t\\t<parent link=\"{joint.parent.name}\"/>\\n' + \n",
    "            f'\\t\\t<child link=\"{joint.child.name}\"/>\\n' + \n",
    "            f'\\t\\t<axis xyz=\"{space_str.join(str(x) for x in joint.axis)}\"/>\\n' + \n",
    "            limit_str + \n",
    "            f'\\t</joint>\\n'\n",
    "        )\n",
    "    full_str = (\n",
    "        '<?xml version=\"1.0\" ?>\\n' + \n",
    "        '<robot name=\"galbot_zero\">\\n' + \n",
    "        ''.join([export_str_link(l) for l in merged_links.values()]) + \n",
    "        ''.join([export_str_joint(j) for j in merged_joints.values()]) + \n",
    "        '</robot>\\n'\n",
    "    )\n",
    "\n",
    "    print(output_urdf_path)\n",
    "    os.makedirs(os.path.dirname(output_urdf_path))\n",
    "    os.makedirs(os.path.join(os.path.dirname(output_urdf_path), \"meshes\"))\n",
    "\n",
    "    with open(output_urdf_path, \"w\") as f_obj:\n",
    "        f_obj.write(full_str.replace(\"\\t\", \"  \"))\n",
    "    for link in merged_links.values():\n",
    "        if len(link.scene.geometry) > 0:\n",
    "            link.scene.export(\n",
    "                os.path.join(os.path.dirname(output_urdf_path), \"meshes\", link.name + \".stl\")\n",
    "            )"
   ]
  },
  {
   "cell_type": "code",
   "execution_count": null,
   "metadata": {},
   "outputs": [],
   "source": [
    "export_urdf(output_urdf_path, merged_joints, merged_links)"
   ]
  },
  {
   "cell_type": "code",
   "execution_count": null,
   "metadata": {},
   "outputs": [],
   "source": [
    "simplified_urdf = batch_urdf.URDF(\n",
    "    1,\n",
    "    output_urdf_path,\n",
    ")"
   ]
  },
  {
   "cell_type": "code",
   "execution_count": null,
   "metadata": {},
   "outputs": [],
   "source": [
    "simplified_urdf.get_scene(0).show()"
   ]
  },
  {
   "cell_type": "code",
   "execution_count": null,
   "metadata": {},
   "outputs": [],
   "source": [
    "cfg = {k: v.clone() for k, v in simplified_urdf.cfg.items()}"
   ]
  },
  {
   "cell_type": "code",
   "execution_count": null,
   "metadata": {},
   "outputs": [],
   "source": [
    "cfg[\"left_arm_joint1\"][...] = 1.0\n",
    "simplified_urdf.update_cfg(cfg)\n",
    "simplified_urdf.get_scene(0).show()"
   ]
  }
 ],
 "metadata": {
  "kernelspec": {
   "display_name": "robohang",
   "language": "python",
   "name": "python3"
  },
  "language_info": {
   "codemirror_mode": {
    "name": "ipython",
    "version": 3
   },
   "file_extension": ".py",
   "mimetype": "text/x-python",
   "name": "python",
   "nbconvert_exporter": "python",
   "pygments_lexer": "ipython3",
   "version": "3.8.17"
  }
 },
 "nbformat": 4,
 "nbformat_minor": 2
}
